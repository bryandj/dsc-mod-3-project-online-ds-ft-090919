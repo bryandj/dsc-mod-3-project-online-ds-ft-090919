{
 "cells": [
  {
   "cell_type": "markdown",
   "metadata": {},
   "source": [
    "# On average, do males or females spend more money per order? Including discount and not including discount."
   ]
  },
  {
   "cell_type": "code",
   "execution_count": 1,
   "metadata": {},
   "outputs": [],
   "source": [
    "import pandas as pd\n",
    "import numpy as np\n",
    "\n",
    "import scipy.stats as scs\n",
    "from scipy import stats \n",
    "from statsmodels.stats.power import tt_ind_solve_power\n",
    "from statsmodels.stats.multicomp import (pairwise_tukeyhsd, MultiComparison)\n",
    "import math\n",
    "import statsmodels.api as sm\n",
    "from statsmodels.formula.api import ols\n",
    "\n",
    "import matplotlib.pyplot as plt\n",
    "from matplotlib import cm\n",
    "import seaborn as sns\n",
    "\n",
    "import sqlite3"
   ]
  },
  {
   "cell_type": "code",
   "execution_count": 2,
   "metadata": {},
   "outputs": [],
   "source": [
    "conn = sqlite3.connect(\"./Northwind_small.sqlite\")\n",
    "cursor = conn.cursor()"
   ]
  },
  {
   "cell_type": "code",
   "execution_count": 3,
   "metadata": {},
   "outputs": [
    {
     "name": "stdout",
     "output_type": "stream",
     "text": [
      "\n",
      "Table info\n",
      "<class 'pandas.core.frame.DataFrame'>\n",
      "RangeIndex: 2078 entries, 0 to 2077\n",
      "Data columns (total 6 columns):\n",
      "CustomerID     2078 non-null object\n",
      "ContactName    2078 non-null object\n",
      "OrderID        2078 non-null int64\n",
      "UnitPrice      2078 non-null float64\n",
      "Quantity       2078 non-null int64\n",
      "Discount       2078 non-null float64\n",
      "dtypes: float64(2), int64(2), object(2)\n",
      "memory usage: 97.5+ KB\n",
      "\n",
      "Sample data\n"
     ]
    },
    {
     "data": {
      "text/html": [
       "<div>\n",
       "<style scoped>\n",
       "    .dataframe tbody tr th:only-of-type {\n",
       "        vertical-align: middle;\n",
       "    }\n",
       "\n",
       "    .dataframe tbody tr th {\n",
       "        vertical-align: top;\n",
       "    }\n",
       "\n",
       "    .dataframe thead th {\n",
       "        text-align: right;\n",
       "    }\n",
       "</style>\n",
       "<table border=\"1\" class=\"dataframe\">\n",
       "  <thead>\n",
       "    <tr style=\"text-align: right;\">\n",
       "      <th></th>\n",
       "      <th>CustomerID</th>\n",
       "      <th>ContactName</th>\n",
       "      <th>OrderID</th>\n",
       "      <th>UnitPrice</th>\n",
       "      <th>Quantity</th>\n",
       "      <th>Discount</th>\n",
       "    </tr>\n",
       "  </thead>\n",
       "  <tbody>\n",
       "    <tr>\n",
       "      <th>0</th>\n",
       "      <td>VINET</td>\n",
       "      <td>Paul Henriot</td>\n",
       "      <td>10248</td>\n",
       "      <td>14.0</td>\n",
       "      <td>12</td>\n",
       "      <td>0.0</td>\n",
       "    </tr>\n",
       "    <tr>\n",
       "      <th>1</th>\n",
       "      <td>VINET</td>\n",
       "      <td>Paul Henriot</td>\n",
       "      <td>10248</td>\n",
       "      <td>9.8</td>\n",
       "      <td>10</td>\n",
       "      <td>0.0</td>\n",
       "    </tr>\n",
       "    <tr>\n",
       "      <th>2</th>\n",
       "      <td>VINET</td>\n",
       "      <td>Paul Henriot</td>\n",
       "      <td>10248</td>\n",
       "      <td>34.8</td>\n",
       "      <td>5</td>\n",
       "      <td>0.0</td>\n",
       "    </tr>\n",
       "    <tr>\n",
       "      <th>3</th>\n",
       "      <td>TOMSP</td>\n",
       "      <td>Karin Josephs</td>\n",
       "      <td>10249</td>\n",
       "      <td>18.6</td>\n",
       "      <td>9</td>\n",
       "      <td>0.0</td>\n",
       "    </tr>\n",
       "    <tr>\n",
       "      <th>4</th>\n",
       "      <td>TOMSP</td>\n",
       "      <td>Karin Josephs</td>\n",
       "      <td>10249</td>\n",
       "      <td>42.4</td>\n",
       "      <td>40</td>\n",
       "      <td>0.0</td>\n",
       "    </tr>\n",
       "  </tbody>\n",
       "</table>\n",
       "</div>"
      ],
      "text/plain": [
       "  CustomerID    ContactName  OrderID  UnitPrice  Quantity  Discount\n",
       "0      VINET   Paul Henriot    10248       14.0        12       0.0\n",
       "1      VINET   Paul Henriot    10248        9.8        10       0.0\n",
       "2      VINET   Paul Henriot    10248       34.8         5       0.0\n",
       "3      TOMSP  Karin Josephs    10249       18.6         9       0.0\n",
       "4      TOMSP  Karin Josephs    10249       42.4        40       0.0"
      ]
     },
     "execution_count": 3,
     "metadata": {},
     "output_type": "execute_result"
    }
   ],
   "source": [
    "query = '''SELECT c.ID AS CustomerID, c.ContactName, o.ID AS OrderID, od.UnitPrice, od.Quantity, od.Discount\n",
    "                            FROM OrderDetail od\n",
    "                            JOIN [Order] o ON od.OrderID = o.ID\n",
    "                            JOIN Customer c ON o.CustomerID = c.ID\n",
    "                            '''\n",
    "df2 = pd.read_sql(query, conn)\n",
    "\n",
    "print('\\nTable info')\n",
    "df2.info()\n",
    "print('\\nSample data')\n",
    "df2.head()"
   ]
  },
  {
   "cell_type": "code",
   "execution_count": 4,
   "metadata": {},
   "outputs": [
    {
     "data": {
      "text/plain": [
       "array(['Paul Henriot', 'Karin Josephs', 'Mario Pontes', 'Mary Saveley',\n",
       "       'Pascale Cartrain', 'Yang Wang', 'Michael Holz', 'Paula Parente',\n",
       "       'Carlos Hernández', 'Roland Mendel', 'Francisco Chang',\n",
       "       'Henriette Pfalzheim', 'Bernardo Batista', 'Paula Wilson',\n",
       "       'Maria Larsson', 'Frédérique Citeaux', 'Pirkko Koskitalo',\n",
       "       'Peter Franken', 'Manuel Pereira', 'Karl Jablonski',\n",
       "       'Art Braunschweiger', 'Horst Kloss', 'Giovanni Rovelli',\n",
       "       'Miguel Angel Paolino', 'Alexander Feuer', 'Christina Berglund',\n",
       "       'Renate Messner', 'Alejandra Camino', 'Carlos González',\n",
       "       'Janete Limeira', 'Maurizio Moroni', 'Victoria Ashworth',\n",
       "       'Pedro Afonso', 'Anabela Domingues', 'Patricia McKenna',\n",
       "       'Rita Müller', 'José Pedro Freyre', 'Rene Phillips', 'Fran Wilson',\n",
       "       'Ana Trujillo', 'Liz Nixon', 'Helen Bennett',\n",
       "       'Guillermo Fernández', 'Philip Cramer', 'Jose Pavarotti',\n",
       "       'Martín Sommer', 'Lino Rodriguez', 'Laurence Lebihan',\n",
       "       'Jean Fresnière', 'Isabel de Castro', 'Jytte Petersen',\n",
       "       'Aria Cruz', 'Annette Roulet', 'Georg Pipps', 'Thomas Hardy',\n",
       "       'Hari Kumar', 'Sven Ottlieb', 'Ann Devon', 'Eduardo Saavedra',\n",
       "       'Palle Ibsen', 'Zbyszek Piestrzeniewicz', 'Yoshi Latimer',\n",
       "       'Jonas Bergulfsen', 'Elizabeth Lincoln', 'Felipe Izquierdo',\n",
       "       'Martine Rancé', 'Paolo Accorti', 'André Fonseca',\n",
       "       'Elizabeth Brown', 'Sergio Gutiérrez', 'John Steel',\n",
       "       'Yoshi Tannamuri', 'Hanna Moos', 'Simon Crowther',\n",
       "       'Patricio Simpson', 'Howard Snyder', 'Catherine Dewey',\n",
       "       'Helvetius Nagy', 'Jaime Yorres', 'Matti Karttunen', 'Liu Wong',\n",
       "       'Maria Anders', 'Carine Schmitt', 'Dominique Perrier',\n",
       "       'Daniel Tonini'], dtype=object)"
      ]
     },
     "execution_count": 4,
     "metadata": {},
     "output_type": "execute_result"
    }
   ],
   "source": [
    "df2.ContactName.unique()"
   ]
  },
  {
   "cell_type": "code",
   "execution_count": 5,
   "metadata": {},
   "outputs": [
    {
     "data": {
      "text/html": [
       "<div>\n",
       "<style scoped>\n",
       "    .dataframe tbody tr th:only-of-type {\n",
       "        vertical-align: middle;\n",
       "    }\n",
       "\n",
       "    .dataframe tbody tr th {\n",
       "        vertical-align: top;\n",
       "    }\n",
       "\n",
       "    .dataframe thead th {\n",
       "        text-align: right;\n",
       "    }\n",
       "</style>\n",
       "<table border=\"1\" class=\"dataframe\">\n",
       "  <thead>\n",
       "    <tr style=\"text-align: right;\">\n",
       "      <th></th>\n",
       "      <th>CustomerID</th>\n",
       "      <th>ContactName</th>\n",
       "      <th>OrderID</th>\n",
       "      <th>UnitPrice</th>\n",
       "      <th>Quantity</th>\n",
       "      <th>Discount</th>\n",
       "      <th>Gender</th>\n",
       "    </tr>\n",
       "  </thead>\n",
       "  <tbody>\n",
       "    <tr>\n",
       "      <th>0</th>\n",
       "      <td>VINET</td>\n",
       "      <td>Paul Henriot</td>\n",
       "      <td>10248</td>\n",
       "      <td>14.0</td>\n",
       "      <td>12</td>\n",
       "      <td>0.0</td>\n",
       "      <td>male</td>\n",
       "    </tr>\n",
       "    <tr>\n",
       "      <th>1</th>\n",
       "      <td>VINET</td>\n",
       "      <td>Paul Henriot</td>\n",
       "      <td>10248</td>\n",
       "      <td>9.8</td>\n",
       "      <td>10</td>\n",
       "      <td>0.0</td>\n",
       "      <td>male</td>\n",
       "    </tr>\n",
       "    <tr>\n",
       "      <th>2</th>\n",
       "      <td>VINET</td>\n",
       "      <td>Paul Henriot</td>\n",
       "      <td>10248</td>\n",
       "      <td>34.8</td>\n",
       "      <td>5</td>\n",
       "      <td>0.0</td>\n",
       "      <td>male</td>\n",
       "    </tr>\n",
       "    <tr>\n",
       "      <th>3</th>\n",
       "      <td>TOMSP</td>\n",
       "      <td>Karin Josephs</td>\n",
       "      <td>10249</td>\n",
       "      <td>18.6</td>\n",
       "      <td>9</td>\n",
       "      <td>0.0</td>\n",
       "      <td>female</td>\n",
       "    </tr>\n",
       "    <tr>\n",
       "      <th>4</th>\n",
       "      <td>TOMSP</td>\n",
       "      <td>Karin Josephs</td>\n",
       "      <td>10249</td>\n",
       "      <td>42.4</td>\n",
       "      <td>40</td>\n",
       "      <td>0.0</td>\n",
       "      <td>female</td>\n",
       "    </tr>\n",
       "  </tbody>\n",
       "</table>\n",
       "</div>"
      ],
      "text/plain": [
       "  CustomerID    ContactName  OrderID  UnitPrice  Quantity  Discount  Gender\n",
       "0      VINET   Paul Henriot    10248       14.0        12       0.0    male\n",
       "1      VINET   Paul Henriot    10248        9.8        10       0.0    male\n",
       "2      VINET   Paul Henriot    10248       34.8         5       0.0    male\n",
       "3      TOMSP  Karin Josephs    10249       18.6         9       0.0  female\n",
       "4      TOMSP  Karin Josephs    10249       42.4        40       0.0  female"
      ]
     },
     "execution_count": 5,
     "metadata": {},
     "output_type": "execute_result"
    }
   ],
   "source": [
    "females = ['Karin Josephs','Mary Saveley','Paula Parente','Henriette Pfalzheim',\n",
    "          'Paula Wilson','Maria Larsson','Christina Berglund','Renate Messner', \n",
    "           'Alejandra Camino','Janete Limeira','Victoria Ashworth','Anabela Domingues', \n",
    "           'Patricia McKenna','Rita Müller','Ana Trujillo', 'Liz Nixon', 'Helen Bennett',\n",
    "          'Isabel de Castro', 'Jytte Petersen','Aria Cruz', 'Annette Roulet',\n",
    "          'Ann Devon','Elizabeth Lincoln','Martine Rancé','Elizabeth Brown',\n",
    "          'Hanna Moos','Catherine Dewey']\n",
    "df2['Gender'] = np.where(df2['ContactName'].isin(females), 'female', 'male')\n",
    "df2.head()"
   ]
  },
  {
   "cell_type": "code",
   "execution_count": 6,
   "metadata": {},
   "outputs": [],
   "source": [
    "# Now that I grouped the customers by gender to create a new column,\n",
    "# I can begin to explore which gender spends the most money per order.\n"
   ]
  },
  {
   "cell_type": "code",
   "execution_count": null,
   "metadata": {},
   "outputs": [],
   "source": [
    "df2['GrossPrice'] = np.multiply(df2['Quantity'],df2['UnitPrice'])\n",
    "df2['NetPrice'] = np.multiply(df2['GrossPrice'],df2['Discount'])\n",
    "df2['NetPrice'] = np.subtract(df2['GrossPrice'],df2['NetPrice'])\n",
    "df2.head()"
   ]
  },
  {
   "cell_type": "code",
   "execution_count": null,
   "metadata": {},
   "outputs": [],
   "source": [
    "fig, (ax1, ax2, ax3) = plt.subplots(3, 1, figsize=(8,8))\n",
    "#fig, (ax1, ax2, ax3) = plt.subplots(3, 1, figsize=(8,8), colormap='cool')\n",
    "df2.groupby(['Gender'])['Gender'].count().plot(kind='barh', color=['pink','blue'], ax=ax1)\n",
    "df2.groupby(['Gender'])['Quantity'].mean().plot(kind='barh', color=['pink','blue'], ax=ax2)\n",
    "df2.groupby(['Gender'])['NetPrice'].mean().plot(kind='barh', color=['pink','blue'], ax=ax3)\n",
    "ax1.set_title('Number Of Orders By Gender')\n",
    "ax1.set_ylabel('')\n",
    "ax1.set_xlabel('# Of Orders')\n",
    "ax2.set_title('Average Quantity Ordered By Gender')\n",
    "ax2.set_ylabel('')\n",
    "ax2.set_xlabel('Quantity Ordered')\n",
    "ax3.set_title('Average Revenue By Gender')\n",
    "ax3.set_ylabel('')\n",
    "ax3.set_xlabel('Average Revenue')\n",
    "fig.subplots_adjust(hspace=0.4);"
   ]
  },
  {
   "cell_type": "code",
   "execution_count": null,
   "metadata": {},
   "outputs": [],
   "source": [
    "df2_male = df2.loc[df2['Gender'] == 'male']\n",
    "df2_male.describe()"
   ]
  },
  {
   "cell_type": "code",
   "execution_count": null,
   "metadata": {},
   "outputs": [],
   "source": [
    "df2_female = df2.loc[df2['Gender'] == 'female']\n",
    "df2_female.describe()"
   ]
  },
  {
   "cell_type": "code",
   "execution_count": null,
   "metadata": {},
   "outputs": [],
   "source": [
    "# I observed from the data that the total count of orders by males is 1402 and 676 for females.\n",
    "# Since there is almost double the data on males than females,\n",
    "# I will try and represent this using an average of (100 order)   "
   ]
  },
  {
   "cell_type": "code",
   "execution_count": null,
   "metadata": {},
   "outputs": [],
   "source": [
    "#plt.figure(figsize=(6,4))\n",
    "#df2_male['NetPrice'].plot(kind='hist', alpha=0.6, legend=True, label='Male')\n",
    "#df2_female['NetPrice'].plot(kind='hist',  alpha=0.4, legend=True, label='Female')\n",
    "#plt.title('Revenue Per Gender');"
   ]
  },
  {
   "cell_type": "code",
   "execution_count": null,
   "metadata": {},
   "outputs": [],
   "source": [
    "#plt.figure(figsize=(8,5))\n",
    "#for gender in set(df2.Gender):\n",
    "#    gender_group = df2.loc[df2['Gender'] == gender]\n",
    "#    sns.distplot(gender_group['NetPrice'], hist_kws=dict(alpha=0.2), label=gender)\n",
    "#    plt.legend()\n",
    "#    plt.xlabel('NetPrice Per Gender')"
   ]
  },
  {
   "cell_type": "markdown",
   "metadata": {},
   "source": [
    "# Statistical Analysis"
   ]
  },
  {
   "cell_type": "code",
   "execution_count": null,
   "metadata": {},
   "outputs": [],
   "source": [
    "# One sample t-test\n",
    "\n",
    "# h0: No difference in money spent on purchases by Males & Females \n",
    "# ha: Males spent the most money on purchases\n",
    "\n",
    "# List Assumptions:\n",
    "# Data is Normal Distribution \n",
    "# Data is Randomly Sampled\n",
    "# Data is Independent"
   ]
  },
  {
   "cell_type": "code",
   "execution_count": null,
   "metadata": {},
   "outputs": [],
   "source": [
    "def one_sample_ttest(sample, popmean, alpha):\n",
    "\n",
    "    # Use eye test on distribution to check for normality \n",
    "    sns.set(color_codes=True)\n",
    "    sns.set(rc={'figure.figsize':(12,10)})\n",
    "    sns.distplot(sample)\n",
    "    \n",
    "    # Population mean \n",
    "    mu = popmean\n",
    "    \n",
    "    # Sample mean (x̄) using NumPy mean()\n",
    "    x_bar= sample.mean()\n",
    "\n",
    "    # std dev of our sample\n",
    "    sigma = np.std(sample)\n",
    "    \n",
    "    # DF\n",
    "    df = len(sample) - 1\n",
    "    \n",
    "    #Find critical t-value\n",
    "    t_crit = stats.t.ppf(1 - alpha, df=df)\n",
    "    \n",
    "    #Find p-value and t-value\n",
    "    results = stats.ttest_1samp(a= sample, popmean= mu)         \n",
    "    \n",
    "    if (results[0]>t_crit) and (results[1]<alpha):\n",
    "        print (\"We reject the null hypothesis. Results are statistically significant with t-value =\", \n",
    "                round(results[0], 2), \"critical t-value =\", t_crit, \"and p-value =\", np.round((results[1]), 6))\n",
    "    else:\n",
    "        print (\"We fail to reject the null hypothesis with a t-value =\", \n",
    "                round(results[0], 2), \", critical t-value =\", t_crit, \"and p-value =\", np.round((results[1]), 6))"
   ]
  },
  {
   "cell_type": "code",
   "execution_count": null,
   "metadata": {},
   "outputs": [],
   "source": [
    "sample2 = df2_male.NetPrice\n",
    "popmean2 = df2_female.NetPrice.mean()\n",
    "alpha = 0.05\n",
    "one_sample_ttest(sample2, popmean2, alpha)"
   ]
  },
  {
   "cell_type": "code",
   "execution_count": null,
   "metadata": {},
   "outputs": [],
   "source": [
    "def Cohen_d(group1, group2):\n",
    "\n",
    "    diff = group1.mean() - group2.mean()\n",
    "\n",
    "    n1, n2 = len(group1), len(group2)\n",
    "    var1 = group1.var()\n",
    "    var2 = group2.var()\n",
    "\n",
    "    # Calculate the pooled variance threshold \n",
    "    pooled_var = (n1 * var1 + n2 * var2) / (n1 + n2)\n",
    "    \n",
    "    # Calculate Cohen's D\n",
    "    d = diff / np.sqrt(pooled_var)\n",
    "    \n",
    "    return d"
   ]
  },
  {
   "cell_type": "code",
   "execution_count": null,
   "metadata": {},
   "outputs": [],
   "source": [
    "males = df2_male.NetPrice\n",
    "females = df2_female.NetPrice\n",
    "Cohen_d(males, females)\n",
    "# effect size is small with a value of ~.10"
   ]
  },
  {
   "cell_type": "code",
   "execution_count": null,
   "metadata": {},
   "outputs": [],
   "source": [
    "# As stated above, males make more orders than women. Also, Males spend more money on their orders than women! Not the result I would have expected!\n",
    "# We reject the null hypothesis and conclude that males purchase more items and spend more money per order than females.\n",
    "# By rejecting the null hypothesis, we are saying that there is a difference in money spent on purchases by gender."
   ]
  },
  {
   "cell_type": "code",
   "execution_count": null,
   "metadata": {},
   "outputs": [],
   "source": [
    "# test the sample means\n",
    "#stats.ttest_ind(sample1, sample2)\n",
    "#\n",
    "#plt.figure(\"Test Samples\")\n",
    "#sns.distplot(sample1, label='Sample1') \n",
    "#sns.distplot(sample2, label='Sample2')\n",
    "#plt.legend()\n",
    "#plt.show()\n"
   ]
  },
  {
   "cell_type": "code",
   "execution_count": null,
   "metadata": {},
   "outputs": [],
   "source": [
    "#https://github.com/AllaGonzalez/Hypothesis_Testing_Using_Northwind_Database/blob/master/Project%20Notebook.ipynb"
   ]
  }
 ],
 "metadata": {
  "kernelspec": {
   "display_name": "Python [conda env:learn-env] *",
   "language": "python",
   "name": "conda-env-learn-env-py"
  },
  "language_info": {
   "codemirror_mode": {
    "name": "ipython",
    "version": 3
   },
   "file_extension": ".py",
   "mimetype": "text/x-python",
   "name": "python",
   "nbconvert_exporter": "python",
   "pygments_lexer": "ipython3",
   "version": "3.6.6"
  }
 },
 "nbformat": 4,
 "nbformat_minor": 2
}
