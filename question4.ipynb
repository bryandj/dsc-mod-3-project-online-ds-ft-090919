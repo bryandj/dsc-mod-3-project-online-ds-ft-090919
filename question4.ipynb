{
 "cells": [
  {
   "cell_type": "markdown",
   "metadata": {},
   "source": [
    "# On average, which gender purchases more units per order? Which gender makes more orders?"
   ]
  },
  {
   "cell_type": "code",
   "execution_count": 1,
   "metadata": {},
   "outputs": [],
   "source": [
    "# First we are going to import the same libraries and set up our table just like before."
   ]
  },
  {
   "cell_type": "code",
   "execution_count": 2,
   "metadata": {},
   "outputs": [],
   "source": [
    "import pandas as pd\n",
    "import numpy as np\n",
    "\n",
    "import scipy.stats as scs\n",
    "from scipy import stats \n",
    "from statsmodels.stats.power import tt_ind_solve_power\n",
    "from statsmodels.stats.multicomp import (pairwise_tukeyhsd, MultiComparison)\n",
    "import math\n",
    "import statsmodels.api as sm\n",
    "from statsmodels.formula.api import ols\n",
    "\n",
    "import matplotlib.pyplot as plt\n",
    "from matplotlib import cm\n",
    "import seaborn as sns\n",
    "\n",
    "import sqlite3"
   ]
  },
  {
   "cell_type": "code",
   "execution_count": 3,
   "metadata": {},
   "outputs": [],
   "source": [
    "conn = sqlite3.connect(\"./Northwind_small.sqlite\")\n",
    "cursor = conn.cursor()"
   ]
  },
  {
   "cell_type": "code",
   "execution_count": 4,
   "metadata": {},
   "outputs": [
    {
     "name": "stdout",
     "output_type": "stream",
     "text": [
      "<class 'pandas.core.frame.DataFrame'>\n",
      "RangeIndex: 2078 entries, 0 to 2077\n",
      "Data columns (total 6 columns):\n",
      "CustomerID     2078 non-null object\n",
      "ContactName    2078 non-null object\n",
      "OrderID        2078 non-null int64\n",
      "UnitPrice      2078 non-null float64\n",
      "Quantity       2078 non-null int64\n",
      "Discount       2078 non-null float64\n",
      "dtypes: float64(2), int64(2), object(2)\n",
      "memory usage: 97.5+ KB\n"
     ]
    },
    {
     "data": {
      "text/html": [
       "<div>\n",
       "<style scoped>\n",
       "    .dataframe tbody tr th:only-of-type {\n",
       "        vertical-align: middle;\n",
       "    }\n",
       "\n",
       "    .dataframe tbody tr th {\n",
       "        vertical-align: top;\n",
       "    }\n",
       "\n",
       "    .dataframe thead th {\n",
       "        text-align: right;\n",
       "    }\n",
       "</style>\n",
       "<table border=\"1\" class=\"dataframe\">\n",
       "  <thead>\n",
       "    <tr style=\"text-align: right;\">\n",
       "      <th></th>\n",
       "      <th>CustomerID</th>\n",
       "      <th>ContactName</th>\n",
       "      <th>OrderID</th>\n",
       "      <th>UnitPrice</th>\n",
       "      <th>Quantity</th>\n",
       "      <th>Discount</th>\n",
       "    </tr>\n",
       "  </thead>\n",
       "  <tbody>\n",
       "    <tr>\n",
       "      <th>0</th>\n",
       "      <td>VINET</td>\n",
       "      <td>Paul Henriot</td>\n",
       "      <td>10248</td>\n",
       "      <td>14.0</td>\n",
       "      <td>12</td>\n",
       "      <td>0.0</td>\n",
       "    </tr>\n",
       "    <tr>\n",
       "      <th>1</th>\n",
       "      <td>VINET</td>\n",
       "      <td>Paul Henriot</td>\n",
       "      <td>10248</td>\n",
       "      <td>9.8</td>\n",
       "      <td>10</td>\n",
       "      <td>0.0</td>\n",
       "    </tr>\n",
       "    <tr>\n",
       "      <th>2</th>\n",
       "      <td>VINET</td>\n",
       "      <td>Paul Henriot</td>\n",
       "      <td>10248</td>\n",
       "      <td>34.8</td>\n",
       "      <td>5</td>\n",
       "      <td>0.0</td>\n",
       "    </tr>\n",
       "    <tr>\n",
       "      <th>3</th>\n",
       "      <td>TOMSP</td>\n",
       "      <td>Karin Josephs</td>\n",
       "      <td>10249</td>\n",
       "      <td>18.6</td>\n",
       "      <td>9</td>\n",
       "      <td>0.0</td>\n",
       "    </tr>\n",
       "    <tr>\n",
       "      <th>4</th>\n",
       "      <td>TOMSP</td>\n",
       "      <td>Karin Josephs</td>\n",
       "      <td>10249</td>\n",
       "      <td>42.4</td>\n",
       "      <td>40</td>\n",
       "      <td>0.0</td>\n",
       "    </tr>\n",
       "  </tbody>\n",
       "</table>\n",
       "</div>"
      ],
      "text/plain": [
       "  CustomerID    ContactName  OrderID  UnitPrice  Quantity  Discount\n",
       "0      VINET   Paul Henriot    10248       14.0        12       0.0\n",
       "1      VINET   Paul Henriot    10248        9.8        10       0.0\n",
       "2      VINET   Paul Henriot    10248       34.8         5       0.0\n",
       "3      TOMSP  Karin Josephs    10249       18.6         9       0.0\n",
       "4      TOMSP  Karin Josephs    10249       42.4        40       0.0"
      ]
     },
     "execution_count": 4,
     "metadata": {},
     "output_type": "execute_result"
    }
   ],
   "source": [
    "query = '''SELECT c.ID AS CustomerID, c.ContactName, o.ID AS OrderID, od.UnitPrice, od.Quantity, od.Discount\n",
    "                            FROM OrderDetail od\n",
    "                            JOIN [Order] o ON od.OrderID = o.ID\n",
    "                            JOIN Customer c ON o.CustomerID = c.ID\n",
    "                            '''\n",
    "df2 = pd.read_sql(query, conn)\n",
    "\n",
    "df2.info()\n",
    "df2.head()"
   ]
  },
  {
   "cell_type": "code",
   "execution_count": 5,
   "metadata": {},
   "outputs": [
    {
     "data": {
      "text/plain": [
       "array(['Paul Henriot', 'Karin Josephs', 'Mario Pontes', 'Mary Saveley',\n",
       "       'Pascale Cartrain', 'Yang Wang', 'Michael Holz', 'Paula Parente',\n",
       "       'Carlos Hernández', 'Roland Mendel', 'Francisco Chang',\n",
       "       'Henriette Pfalzheim', 'Bernardo Batista', 'Paula Wilson',\n",
       "       'Maria Larsson', 'Frédérique Citeaux', 'Pirkko Koskitalo',\n",
       "       'Peter Franken', 'Manuel Pereira', 'Karl Jablonski',\n",
       "       'Art Braunschweiger', 'Horst Kloss', 'Giovanni Rovelli',\n",
       "       'Miguel Angel Paolino', 'Alexander Feuer', 'Christina Berglund',\n",
       "       'Renate Messner', 'Alejandra Camino', 'Carlos González',\n",
       "       'Janete Limeira', 'Maurizio Moroni', 'Victoria Ashworth',\n",
       "       'Pedro Afonso', 'Anabela Domingues', 'Patricia McKenna',\n",
       "       'Rita Müller', 'José Pedro Freyre', 'Rene Phillips', 'Fran Wilson',\n",
       "       'Ana Trujillo', 'Liz Nixon', 'Helen Bennett',\n",
       "       'Guillermo Fernández', 'Philip Cramer', 'Jose Pavarotti',\n",
       "       'Martín Sommer', 'Lino Rodriguez', 'Laurence Lebihan',\n",
       "       'Jean Fresnière', 'Isabel de Castro', 'Jytte Petersen',\n",
       "       'Aria Cruz', 'Annette Roulet', 'Georg Pipps', 'Thomas Hardy',\n",
       "       'Hari Kumar', 'Sven Ottlieb', 'Ann Devon', 'Eduardo Saavedra',\n",
       "       'Palle Ibsen', 'Zbyszek Piestrzeniewicz', 'Yoshi Latimer',\n",
       "       'Jonas Bergulfsen', 'Elizabeth Lincoln', 'Felipe Izquierdo',\n",
       "       'Martine Rancé', 'Paolo Accorti', 'André Fonseca',\n",
       "       'Elizabeth Brown', 'Sergio Gutiérrez', 'John Steel',\n",
       "       'Yoshi Tannamuri', 'Hanna Moos', 'Simon Crowther',\n",
       "       'Patricio Simpson', 'Howard Snyder', 'Catherine Dewey',\n",
       "       'Helvetius Nagy', 'Jaime Yorres', 'Matti Karttunen', 'Liu Wong',\n",
       "       'Maria Anders', 'Carine Schmitt', 'Dominique Perrier',\n",
       "       'Daniel Tonini'], dtype=object)"
      ]
     },
     "execution_count": 5,
     "metadata": {},
     "output_type": "execute_result"
    }
   ],
   "source": [
    "df2.ContactName.unique()"
   ]
  },
  {
   "cell_type": "code",
   "execution_count": 6,
   "metadata": {},
   "outputs": [
    {
     "data": {
      "text/html": [
       "<div>\n",
       "<style scoped>\n",
       "    .dataframe tbody tr th:only-of-type {\n",
       "        vertical-align: middle;\n",
       "    }\n",
       "\n",
       "    .dataframe tbody tr th {\n",
       "        vertical-align: top;\n",
       "    }\n",
       "\n",
       "    .dataframe thead th {\n",
       "        text-align: right;\n",
       "    }\n",
       "</style>\n",
       "<table border=\"1\" class=\"dataframe\">\n",
       "  <thead>\n",
       "    <tr style=\"text-align: right;\">\n",
       "      <th></th>\n",
       "      <th>CustomerID</th>\n",
       "      <th>ContactName</th>\n",
       "      <th>OrderID</th>\n",
       "      <th>UnitPrice</th>\n",
       "      <th>Quantity</th>\n",
       "      <th>Discount</th>\n",
       "      <th>Gender</th>\n",
       "    </tr>\n",
       "  </thead>\n",
       "  <tbody>\n",
       "    <tr>\n",
       "      <th>0</th>\n",
       "      <td>VINET</td>\n",
       "      <td>Paul Henriot</td>\n",
       "      <td>10248</td>\n",
       "      <td>14.0</td>\n",
       "      <td>12</td>\n",
       "      <td>0.0</td>\n",
       "      <td>male</td>\n",
       "    </tr>\n",
       "    <tr>\n",
       "      <th>1</th>\n",
       "      <td>VINET</td>\n",
       "      <td>Paul Henriot</td>\n",
       "      <td>10248</td>\n",
       "      <td>9.8</td>\n",
       "      <td>10</td>\n",
       "      <td>0.0</td>\n",
       "      <td>male</td>\n",
       "    </tr>\n",
       "    <tr>\n",
       "      <th>2</th>\n",
       "      <td>VINET</td>\n",
       "      <td>Paul Henriot</td>\n",
       "      <td>10248</td>\n",
       "      <td>34.8</td>\n",
       "      <td>5</td>\n",
       "      <td>0.0</td>\n",
       "      <td>male</td>\n",
       "    </tr>\n",
       "    <tr>\n",
       "      <th>3</th>\n",
       "      <td>TOMSP</td>\n",
       "      <td>Karin Josephs</td>\n",
       "      <td>10249</td>\n",
       "      <td>18.6</td>\n",
       "      <td>9</td>\n",
       "      <td>0.0</td>\n",
       "      <td>female</td>\n",
       "    </tr>\n",
       "    <tr>\n",
       "      <th>4</th>\n",
       "      <td>TOMSP</td>\n",
       "      <td>Karin Josephs</td>\n",
       "      <td>10249</td>\n",
       "      <td>42.4</td>\n",
       "      <td>40</td>\n",
       "      <td>0.0</td>\n",
       "      <td>female</td>\n",
       "    </tr>\n",
       "  </tbody>\n",
       "</table>\n",
       "</div>"
      ],
      "text/plain": [
       "  CustomerID    ContactName  OrderID  UnitPrice  Quantity  Discount  Gender\n",
       "0      VINET   Paul Henriot    10248       14.0        12       0.0    male\n",
       "1      VINET   Paul Henriot    10248        9.8        10       0.0    male\n",
       "2      VINET   Paul Henriot    10248       34.8         5       0.0    male\n",
       "3      TOMSP  Karin Josephs    10249       18.6         9       0.0  female\n",
       "4      TOMSP  Karin Josephs    10249       42.4        40       0.0  female"
      ]
     },
     "execution_count": 6,
     "metadata": {},
     "output_type": "execute_result"
    }
   ],
   "source": [
    "females = ['Karin Josephs','Mary Saveley','Paula Parente','Henriette Pfalzheim',\n",
    "          'Paula Wilson','Maria Larsson','Christina Berglund','Renate Messner', \n",
    "           'Alejandra Camino','Janete Limeira','Victoria Ashworth','Anabela Domingues', \n",
    "           'Patricia McKenna','Rita Müller','Ana Trujillo', 'Liz Nixon', 'Helen Bennett',\n",
    "          'Isabel de Castro', 'Jytte Petersen','Aria Cruz', 'Annette Roulet',\n",
    "          'Ann Devon','Elizabeth Lincoln','Martine Rancé','Elizabeth Brown',\n",
    "          'Hanna Moos','Catherine Dewey']\n",
    "df2['Gender'] = np.where(df2['ContactName'].isin(females), 'female', 'male')\n",
    "df2.head()"
   ]
  },
  {
   "cell_type": "code",
   "execution_count": 7,
   "metadata": {},
   "outputs": [
    {
     "data": {
      "text/html": [
       "<div>\n",
       "<style scoped>\n",
       "    .dataframe tbody tr th:only-of-type {\n",
       "        vertical-align: middle;\n",
       "    }\n",
       "\n",
       "    .dataframe tbody tr th {\n",
       "        vertical-align: top;\n",
       "    }\n",
       "\n",
       "    .dataframe thead th {\n",
       "        text-align: right;\n",
       "    }\n",
       "</style>\n",
       "<table border=\"1\" class=\"dataframe\">\n",
       "  <thead>\n",
       "    <tr style=\"text-align: right;\">\n",
       "      <th></th>\n",
       "      <th>CustomerID</th>\n",
       "      <th>ContactName</th>\n",
       "      <th>OrderID</th>\n",
       "      <th>UnitPrice</th>\n",
       "      <th>Quantity</th>\n",
       "      <th>Discount</th>\n",
       "      <th>Gender</th>\n",
       "      <th>TotalOrderPrice</th>\n",
       "      <th>NetPrice</th>\n",
       "    </tr>\n",
       "  </thead>\n",
       "  <tbody>\n",
       "    <tr>\n",
       "      <th>0</th>\n",
       "      <td>VINET</td>\n",
       "      <td>Paul Henriot</td>\n",
       "      <td>10248</td>\n",
       "      <td>14.0</td>\n",
       "      <td>12</td>\n",
       "      <td>0.0</td>\n",
       "      <td>male</td>\n",
       "      <td>168.0</td>\n",
       "      <td>168.0</td>\n",
       "    </tr>\n",
       "    <tr>\n",
       "      <th>1</th>\n",
       "      <td>VINET</td>\n",
       "      <td>Paul Henriot</td>\n",
       "      <td>10248</td>\n",
       "      <td>9.8</td>\n",
       "      <td>10</td>\n",
       "      <td>0.0</td>\n",
       "      <td>male</td>\n",
       "      <td>98.0</td>\n",
       "      <td>98.0</td>\n",
       "    </tr>\n",
       "    <tr>\n",
       "      <th>2</th>\n",
       "      <td>VINET</td>\n",
       "      <td>Paul Henriot</td>\n",
       "      <td>10248</td>\n",
       "      <td>34.8</td>\n",
       "      <td>5</td>\n",
       "      <td>0.0</td>\n",
       "      <td>male</td>\n",
       "      <td>174.0</td>\n",
       "      <td>174.0</td>\n",
       "    </tr>\n",
       "    <tr>\n",
       "      <th>3</th>\n",
       "      <td>TOMSP</td>\n",
       "      <td>Karin Josephs</td>\n",
       "      <td>10249</td>\n",
       "      <td>18.6</td>\n",
       "      <td>9</td>\n",
       "      <td>0.0</td>\n",
       "      <td>female</td>\n",
       "      <td>167.4</td>\n",
       "      <td>167.4</td>\n",
       "    </tr>\n",
       "    <tr>\n",
       "      <th>4</th>\n",
       "      <td>TOMSP</td>\n",
       "      <td>Karin Josephs</td>\n",
       "      <td>10249</td>\n",
       "      <td>42.4</td>\n",
       "      <td>40</td>\n",
       "      <td>0.0</td>\n",
       "      <td>female</td>\n",
       "      <td>1696.0</td>\n",
       "      <td>1696.0</td>\n",
       "    </tr>\n",
       "  </tbody>\n",
       "</table>\n",
       "</div>"
      ],
      "text/plain": [
       "  CustomerID    ContactName  OrderID  UnitPrice  Quantity  Discount  Gender  \\\n",
       "0      VINET   Paul Henriot    10248       14.0        12       0.0    male   \n",
       "1      VINET   Paul Henriot    10248        9.8        10       0.0    male   \n",
       "2      VINET   Paul Henriot    10248       34.8         5       0.0    male   \n",
       "3      TOMSP  Karin Josephs    10249       18.6         9       0.0  female   \n",
       "4      TOMSP  Karin Josephs    10249       42.4        40       0.0  female   \n",
       "\n",
       "   TotalOrderPrice  NetPrice  \n",
       "0            168.0     168.0  \n",
       "1             98.0      98.0  \n",
       "2            174.0     174.0  \n",
       "3            167.4     167.4  \n",
       "4           1696.0    1696.0  "
      ]
     },
     "execution_count": 7,
     "metadata": {},
     "output_type": "execute_result"
    }
   ],
   "source": [
    "# Running this step from question 3 to stay consistant. \n",
    "df2['TotalOrderPrice'] = np.multiply(df2['Quantity'],df2['UnitPrice'])\n",
    "df2['NetPrice'] = np.multiply(df2['TotalOrderPrice'],df2['Discount'])\n",
    "df2['NetPrice'] = np.subtract(df2['TotalOrderPrice'],df2['NetPrice'])\n",
    "df2.head()"
   ]
  },
  {
   "cell_type": "code",
   "execution_count": 8,
   "metadata": {},
   "outputs": [
    {
     "data": {
      "image/png": "[encoded data removed]",
      "text/plain": [
       "<Figure size 576x576 with 2 Axes>"
      ]
     },
     "metadata": {
      "needs_background": "light"
     },
     "output_type": "display_data"
    }
   ],
   "source": [
    "fig, (ax1, ax2) = plt.subplots(2, 1, figsize=(8,8))\n",
    "\n",
    "df2.groupby(['Gender'])['Quantity'].mean().plot(kind='barh', color=['pink','blue'], ax=ax1)\n",
    "df2.groupby(['Gender'])['Gender'].count().plot(kind='barh', color=['pink','blue'], ax=ax2)\n",
    "\n",
    "\n",
    "ax1.set_title('Average Quantity Ordered By Gender')\n",
    "ax1.set_ylabel('')\n",
    "ax1.set_xlabel('Number of Units Per Order')\n",
    "\n",
    "ax2.set_title('Order Count By Gender')\n",
    "ax2.set_ylabel('')\n",
    "ax2.set_xlabel('Total Number Of Orders')\n",
    "\n",
    "fig.subplots_adjust(hspace=0.4);"
   ]
  },
  {
   "cell_type": "code",
   "execution_count": 9,
   "metadata": {},
   "outputs": [
    {
     "data": {
      "text/html": [
       "<div>\n",
       "<style scoped>\n",
       "    .dataframe tbody tr th:only-of-type {\n",
       "        vertical-align: middle;\n",
       "    }\n",
       "\n",
       "    .dataframe tbody tr th {\n",
       "        vertical-align: top;\n",
       "    }\n",
       "\n",
       "    .dataframe thead th {\n",
       "        text-align: right;\n",
       "    }\n",
       "</style>\n",
       "<table border=\"1\" class=\"dataframe\">\n",
       "  <thead>\n",
       "    <tr style=\"text-align: right;\">\n",
       "      <th></th>\n",
       "      <th>OrderID</th>\n",
       "      <th>UnitPrice</th>\n",
       "      <th>Quantity</th>\n",
       "      <th>Discount</th>\n",
       "      <th>TotalOrderPrice</th>\n",
       "      <th>NetPrice</th>\n",
       "    </tr>\n",
       "  </thead>\n",
       "  <tbody>\n",
       "    <tr>\n",
       "      <th>count</th>\n",
       "      <td>1402.000000</td>\n",
       "      <td>1402.000000</td>\n",
       "      <td>1402.000000</td>\n",
       "      <td>1402.000000</td>\n",
       "      <td>1402.000000</td>\n",
       "      <td>1402.000000</td>\n",
       "    </tr>\n",
       "    <tr>\n",
       "      <th>mean</th>\n",
       "      <td>10663.552782</td>\n",
       "      <td>26.605136</td>\n",
       "      <td>25.711840</td>\n",
       "      <td>0.052211</td>\n",
       "      <td>666.563395</td>\n",
       "      <td>624.847798</td>\n",
       "    </tr>\n",
       "    <tr>\n",
       "      <th>std</th>\n",
       "      <td>237.369117</td>\n",
       "      <td>31.427471</td>\n",
       "      <td>20.761993</td>\n",
       "      <td>0.079448</td>\n",
       "      <td>1074.097228</td>\n",
       "      <td>1005.617736</td>\n",
       "    </tr>\n",
       "    <tr>\n",
       "      <th>min</th>\n",
       "      <td>10248.000000</td>\n",
       "      <td>2.000000</td>\n",
       "      <td>1.000000</td>\n",
       "      <td>0.000000</td>\n",
       "      <td>12.500000</td>\n",
       "      <td>12.500000</td>\n",
       "    </tr>\n",
       "    <tr>\n",
       "      <th>25%</th>\n",
       "      <td>10461.000000</td>\n",
       "      <td>12.000000</td>\n",
       "      <td>10.000000</td>\n",
       "      <td>0.000000</td>\n",
       "      <td>172.800000</td>\n",
       "      <td>162.187500</td>\n",
       "    </tr>\n",
       "    <tr>\n",
       "      <th>50%</th>\n",
       "      <td>10674.000000</td>\n",
       "      <td>18.400000</td>\n",
       "      <td>20.000000</td>\n",
       "      <td>0.000000</td>\n",
       "      <td>380.000000</td>\n",
       "      <td>368.062500</td>\n",
       "    </tr>\n",
       "    <tr>\n",
       "      <th>75%</th>\n",
       "      <td>10861.000000</td>\n",
       "      <td>32.800000</td>\n",
       "      <td>35.000000</td>\n",
       "      <td>0.100000</td>\n",
       "      <td>760.000000</td>\n",
       "      <td>720.000000</td>\n",
       "    </tr>\n",
       "    <tr>\n",
       "      <th>max</th>\n",
       "      <td>11076.000000</td>\n",
       "      <td>263.500000</td>\n",
       "      <td>130.000000</td>\n",
       "      <td>0.250000</td>\n",
       "      <td>15810.000000</td>\n",
       "      <td>15810.000000</td>\n",
       "    </tr>\n",
       "  </tbody>\n",
       "</table>\n",
       "</div>"
      ],
      "text/plain": [
       "            OrderID    UnitPrice     Quantity     Discount  TotalOrderPrice  \\\n",
       "count   1402.000000  1402.000000  1402.000000  1402.000000      1402.000000   \n",
       "mean   10663.552782    26.605136    25.711840     0.052211       666.563395   \n",
       "std      237.369117    31.427471    20.761993     0.079448      1074.097228   \n",
       "min    10248.000000     2.000000     1.000000     0.000000        12.500000   \n",
       "25%    10461.000000    12.000000    10.000000     0.000000       172.800000   \n",
       "50%    10674.000000    18.400000    20.000000     0.000000       380.000000   \n",
       "75%    10861.000000    32.800000    35.000000     0.100000       760.000000   \n",
       "max    11076.000000   263.500000   130.000000     0.250000     15810.000000   \n",
       "\n",
       "           NetPrice  \n",
       "count   1402.000000  \n",
       "mean     624.847798  \n",
       "std     1005.617736  \n",
       "min       12.500000  \n",
       "25%      162.187500  \n",
       "50%      368.062500  \n",
       "75%      720.000000  \n",
       "max    15810.000000  "
      ]
     },
     "execution_count": 9,
     "metadata": {},
     "output_type": "execute_result"
    }
   ],
   "source": [
    "df2_male = df2.loc[df2['Gender'] == 'male']\n",
    "df2_male.describe()"
   ]
  },
  {
   "cell_type": "code",
   "execution_count": 10,
   "metadata": {},
   "outputs": [
    {
     "data": {
      "text/html": [
       "<div>\n",
       "<style scoped>\n",
       "    .dataframe tbody tr th:only-of-type {\n",
       "        vertical-align: middle;\n",
       "    }\n",
       "\n",
       "    .dataframe tbody tr th {\n",
       "        vertical-align: top;\n",
       "    }\n",
       "\n",
       "    .dataframe thead th {\n",
       "        text-align: right;\n",
       "    }\n",
       "</style>\n",
       "<table border=\"1\" class=\"dataframe\">\n",
       "  <thead>\n",
       "    <tr style=\"text-align: right;\">\n",
       "      <th></th>\n",
       "      <th>OrderID</th>\n",
       "      <th>UnitPrice</th>\n",
       "      <th>Quantity</th>\n",
       "      <th>Discount</th>\n",
       "      <th>TotalOrderPrice</th>\n",
       "      <th>NetPrice</th>\n",
       "    </tr>\n",
       "  </thead>\n",
       "  <tbody>\n",
       "    <tr>\n",
       "      <th>count</th>\n",
       "      <td>676.000000</td>\n",
       "      <td>676.000000</td>\n",
       "      <td>676.000000</td>\n",
       "      <td>676.000000</td>\n",
       "      <td>676.000000</td>\n",
       "      <td>676.000000</td>\n",
       "    </tr>\n",
       "    <tr>\n",
       "      <th>mean</th>\n",
       "      <td>10647.640533</td>\n",
       "      <td>25.597737</td>\n",
       "      <td>20.217456</td>\n",
       "      <td>0.063964</td>\n",
       "      <td>557.868580</td>\n",
       "      <td>520.619604</td>\n",
       "    </tr>\n",
       "    <tr>\n",
       "      <th>std</th>\n",
       "      <td>252.270054</td>\n",
       "      <td>26.678301</td>\n",
       "      <td>14.611261</td>\n",
       "      <td>0.090660</td>\n",
       "      <td>953.217572</td>\n",
       "      <td>906.215718</td>\n",
       "    </tr>\n",
       "    <tr>\n",
       "      <th>min</th>\n",
       "      <td>10249.000000</td>\n",
       "      <td>2.000000</td>\n",
       "      <td>1.000000</td>\n",
       "      <td>0.000000</td>\n",
       "      <td>4.800000</td>\n",
       "      <td>4.800000</td>\n",
       "    </tr>\n",
       "    <tr>\n",
       "      <th>25%</th>\n",
       "      <td>10431.000000</td>\n",
       "      <td>12.000000</td>\n",
       "      <td>10.000000</td>\n",
       "      <td>0.000000</td>\n",
       "      <td>125.700000</td>\n",
       "      <td>116.700000</td>\n",
       "    </tr>\n",
       "    <tr>\n",
       "      <th>50%</th>\n",
       "      <td>10622.000000</td>\n",
       "      <td>19.000000</td>\n",
       "      <td>18.000000</td>\n",
       "      <td>0.000000</td>\n",
       "      <td>310.600000</td>\n",
       "      <td>289.900000</td>\n",
       "    </tr>\n",
       "    <tr>\n",
       "      <th>75%</th>\n",
       "      <td>10857.000000</td>\n",
       "      <td>31.230000</td>\n",
       "      <td>30.000000</td>\n",
       "      <td>0.100000</td>\n",
       "      <td>625.800000</td>\n",
       "      <td>576.900000</td>\n",
       "    </tr>\n",
       "    <tr>\n",
       "      <th>max</th>\n",
       "      <td>11077.000000</td>\n",
       "      <td>263.500000</td>\n",
       "      <td>80.000000</td>\n",
       "      <td>0.250000</td>\n",
       "      <td>10540.000000</td>\n",
       "      <td>10540.000000</td>\n",
       "    </tr>\n",
       "  </tbody>\n",
       "</table>\n",
       "</div>"
      ],
      "text/plain": [
       "            OrderID   UnitPrice    Quantity    Discount  TotalOrderPrice  \\\n",
       "count    676.000000  676.000000  676.000000  676.000000       676.000000   \n",
       "mean   10647.640533   25.597737   20.217456    0.063964       557.868580   \n",
       "std      252.270054   26.678301   14.611261    0.090660       953.217572   \n",
       "min    10249.000000    2.000000    1.000000    0.000000         4.800000   \n",
       "25%    10431.000000   12.000000   10.000000    0.000000       125.700000   \n",
       "50%    10622.000000   19.000000   18.000000    0.000000       310.600000   \n",
       "75%    10857.000000   31.230000   30.000000    0.100000       625.800000   \n",
       "max    11077.000000  263.500000   80.000000    0.250000     10540.000000   \n",
       "\n",
       "           NetPrice  \n",
       "count    676.000000  \n",
       "mean     520.619604  \n",
       "std      906.215718  \n",
       "min        4.800000  \n",
       "25%      116.700000  \n",
       "50%      289.900000  \n",
       "75%      576.900000  \n",
       "max    10540.000000  "
      ]
     },
     "execution_count": 10,
     "metadata": {},
     "output_type": "execute_result"
    }
   ],
   "source": [
    "df2_female = df2.loc[df2['Gender'] == 'female']\n",
    "df2_female.describe()"
   ]
  },
  {
   "cell_type": "code",
   "execution_count": 11,
   "metadata": {},
   "outputs": [
    {
     "name": "stderr",
     "output_type": "stream",
     "text": [
      "//anaconda3/envs/learn-env/lib/python3.6/site-packages/scipy/stats/stats.py:1713: FutureWarning: Using a non-tuple sequence for multidimensional indexing is deprecated; use `arr[tuple(seq)]` instead of `arr[seq]`. In the future this will be interpreted as an array index, `arr[np.array(seq)]`, which will result either in an error or a different result.\n",
      "  return np.add.reduce(sorted[indexer] * weights, axis=axis) / sumval\n"
     ]
    },
    {
     "data": {
      "image/png": "[encoded data removed]",
      "text/plain": [
       "<Figure size 432x288 with 1 Axes>"
      ]
     },
     "metadata": {
      "needs_background": "light"
     },
     "output_type": "display_data"
    }
   ],
   "source": [
    "# Next I want to plot and visualize this relationship.\n",
    "\n",
    "ax = sns.violinplot(x=\"Gender\", y=\"Quantity\", data=df2)\n",
    "\n",
    "medians = df2.groupby(['Gender'])['Quantity'].median().values\n",
    "nobs = df2['Gender'].value_counts().values\n",
    "nobs = [str(x) for x in nobs.tolist()]\n",
    "nobs = [\"n: \" + i for i in nobs]\n",
    "\n",
    "pos = range(len(nobs))\n",
    "for tick,label in zip(pos,ax.get_xticklabels()):\n",
    "    ax.text(pos[tick], medians[tick] + 0.03, nobs[tick], horizontalalignment='center', size='x-small', color='w', weight='semibold')"
   ]
  },
  {
   "cell_type": "code",
   "execution_count": 12,
   "metadata": {},
   "outputs": [],
   "source": [
    "# Reference - \"https://python-graph-gallery.com/58-show-number-of-observation-on-violinplot/\""
   ]
  },
  {
   "cell_type": "code",
   "execution_count": 13,
   "metadata": {},
   "outputs": [],
   "source": [
    "# I observed from the data that the total count of orders by males is 1402 and 676 for females.\n",
    "# Since there is almost double the data on males than females "
   ]
  },
  {
   "cell_type": "markdown",
   "metadata": {},
   "source": [
    "# Statistical Analysis"
   ]
  },
  {
   "cell_type": "markdown",
   "metadata": {},
   "source": [
    "## Hypothesis 4\n",
    "\n",
    "### h0: No difference in quantity ordered by Males & Females \n",
    "### ha: Males order more items than females"
   ]
  },
  {
   "cell_type": "code",
   "execution_count": 14,
   "metadata": {},
   "outputs": [],
   "source": [
    "# Let's run a One sample t-test\n",
    "\n",
    "# List My Assumptions:\n",
    "# Data is Normal Distribution \n",
    "# Data is Randomly Sampled\n",
    "# Data is Independent\n"
   ]
  },
  {
   "cell_type": "code",
   "execution_count": 15,
   "metadata": {},
   "outputs": [],
   "source": [
    "def one_sample_ttest(sample, popmean, alpha):\n",
    "\n",
    "    # Use eye test on distribution to check for normality \n",
    "    sns.set(color_codes=True)\n",
    "    sns.set(rc={'figure.figsize':(12,10)})\n",
    "    sns.distplot(sample)\n",
    "    \n",
    "    # Population mean \n",
    "    mu = popmean\n",
    "    \n",
    "    # Sample mean (x̄) using NumPy mean()\n",
    "    x_bar= sample.mean()\n",
    "\n",
    "    # std dev of our sample\n",
    "    sigma = np.std(sample)\n",
    "    \n",
    "    # DF\n",
    "    df = len(sample) - 1\n",
    "    \n",
    "    #Find critical t-value\n",
    "    t_crit = stats.t.ppf(1 - alpha, df=df)\n",
    "    \n",
    "    #Find p-value and t-value\n",
    "    results = stats.ttest_1samp(a= sample, popmean= mu)         \n",
    "    \n",
    "    if (results[0]>t_crit) and (results[1]<alpha):\n",
    "        print (\"We reject the null hypothesis. Results are statistically significant with t-value =\", \n",
    "                round(results[0], 2), \"critical t-value =\", t_crit, \"and p-value =\", np.round((results[1]), 6))\n",
    "    else:\n",
    "        print (\"We fail to reject the null hypothesis with a t-value =\", \n",
    "                round(results[0], 2), \", critical t-value =\", t_crit, \"and p-value =\", np.round((results[1]), 6))"
   ]
  },
  {
   "cell_type": "code",
   "execution_count": 16,
   "metadata": {},
   "outputs": [
    {
     "name": "stderr",
     "output_type": "stream",
     "text": [
      "//anaconda3/envs/learn-env/lib/python3.6/site-packages/scipy/stats/stats.py:1713: FutureWarning: Using a non-tuple sequence for multidimensional indexing is deprecated; use `arr[tuple(seq)]` instead of `arr[seq]`. In the future this will be interpreted as an array index, `arr[np.array(seq)]`, which will result either in an error or a different result.\n",
      "  return np.add.reduce(sorted[indexer] * weights, axis=axis) / sumval\n"
     ]
    },
    {
     "name": "stdout",
     "output_type": "stream",
     "text": [
      "We reject the null hypothesis. Results are statistically significant with t-value = 9.91 critical t-value = 1.6459419805240438 and p-value = 0.0\n"
     ]
    },
    {
     "data": {
      "image/png": "[encoded data removed]",
      "text/plain": [
       "<Figure size 864x720 with 1 Axes>"
      ]
     },
     "metadata": {},
     "output_type": "display_data"
    }
   ],
   "source": [
    "sample2 = df2_male.Quantity\n",
    "popmean2 = df2_female.Quantity.mean()\n",
    "alpha = 0.05\n",
    "one_sample_ttest(sample2, popmean2, alpha)"
   ]
  },
  {
   "cell_type": "code",
   "execution_count": 17,
   "metadata": {},
   "outputs": [],
   "source": [
    "def Cohen_d(group1, group2):\n",
    "\n",
    "    diff = group1.mean() - group2.mean()\n",
    "\n",
    "    n1, n2 = len(group1), len(group2)\n",
    "    var1 = group1.var()\n",
    "    var2 = group2.var()\n",
    "\n",
    "    # Calculate the pooled variance threshold \n",
    "    pooled_var = (n1 * var1 + n2 * var2) / (n1 + n2)\n",
    "    \n",
    "    # Calculate Cohen's D\n",
    "    d = diff / np.sqrt(pooled_var)\n",
    "    \n",
    "    return d"
   ]
  },
  {
   "cell_type": "code",
   "execution_count": 19,
   "metadata": {},
   "outputs": [
    {
     "data": {
      "text/plain": [
       "0.28946630324059897"
      ]
     },
     "execution_count": 19,
     "metadata": {},
     "output_type": "execute_result"
    }
   ],
   "source": [
    "males = df2_male.Quantity\n",
    "females = df2_female.Quantity\n",
    "Cohen_d(males, females)\n",
    "# effect size is small with a value of ~.28"
   ]
  },
  {
   "cell_type": "markdown",
   "metadata": {},
   "source": [
    "# Conclusion"
   ]
  },
  {
   "cell_type": "code",
   "execution_count": null,
   "metadata": {},
   "outputs": [],
   "source": [
    "# Males make more orders than women.\n",
    "# Males also spend more money on their orders than Women! Not the result I would have expected!\n",
    "\n",
    "# We reject the Null Hypothesis and conclude that on average, Males purchase more items per order than Females.\n",
    "# By rejecting the null hypothesis, we are saying that there is a difference in quantity ordered by gender."
   ]
  },
  {
   "cell_type": "code",
   "execution_count": null,
   "metadata": {},
   "outputs": [],
   "source": []
  }
 ],
 "metadata": {
  "kernelspec": {
   "display_name": "Python [conda env:learn-env] *",
   "language": "python",
   "name": "conda-env-learn-env-py"
  },
  "language_info": {
   "codemirror_mode": {
    "name": "ipython",
    "version": 3
   },
   "file_extension": ".py",
   "mimetype": "text/x-python",
   "name": "python",
   "nbconvert_exporter": "python",
   "pygments_lexer": "ipython3",
   "version": "3.6.6"
  }
 },
 "nbformat": 4,
 "nbformat_minor": 2
}
